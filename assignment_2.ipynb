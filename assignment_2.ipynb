{
 "cells": [
  {
   "attachments": {},
   "cell_type": "markdown",
   "id": "4f455882",
   "metadata": {},
   "source": [
    "# ECON 5181 Assignment 2\n",
    "\n",
    "Due: April 5, 2024, noon. Submission on Blackboard.\n",
    "\n",
    "DON'T forget your VeriGuide report and honesty declaration! \n",
    "\n",
    "*The copyright of this content, produced by staff members/ teachers of The Chinese University of Hong Kong (CUHK), belongs to CUHK.  Students shall not distribute, share, copy or upload the content to a third party.*"
   ]
  },
  {
   "cell_type": "markdown",
   "id": "5d9bfb55",
   "metadata": {},
   "source": [
    "## Q1. Regression trees\n",
    "\n",
    "We consider the following data generating process:\n",
    "\n",
    "$$Y_i = X_{i1} + X_{i2}  + U_i$$\n",
    "\n",
    "where $X_1, X_2$ are independent standard normal random variables, and $U$ is standard normal, independent of the $X$'s. \n",
    "\n",
    "In this exercise, we study the behavior of regression trees in this additive model. "
   ]
  },
  {
   "cell_type": "markdown",
   "id": "4798efbc",
   "metadata": {},
   "source": [
    "#### 1. Simulate $S = 500$ samples according to the DGP, each with a sample size $n = 1600$. In each simulated sample, randomly split the data into 1200 observations that will form a training set and 400 observations that will form the test set."
   ]
  },
  {
   "cell_type": "code",
   "execution_count": null,
   "id": "2f8ed576",
   "metadata": {
    "vscode": {
     "languageId": "r"
    }
   },
   "outputs": [],
   "source": [
    "## Set model primitives\n",
    "# INPUT your code here\n",
    "\n",
    "Nsim <- 500\n",
    "N <- 1600\n",
    "..."
   ]
  },
  {
   "cell_type": "markdown",
   "id": "04dc2312",
   "metadata": {},
   "source": [
    "#### 2. Estimate a regression tree of $Y_i$ on $X_{i1}, X_{i2}$ in each simulated sample. \n",
    "\n",
    "You will use R pacakge to implement CART, which does pruning and cross validation"
   ]
  },
  {
   "cell_type": "code",
   "execution_count": 13,
   "id": "265d59b9",
   "metadata": {
    "vscode": {
     "languageId": "r"
    }
   },
   "outputs": [
    {
     "data": {
      "text/html": [
       "<ol>\n",
       "\t<li>TRUE</li>\n",
       "\t<li>TRUE</li>\n",
       "\t<li>TRUE</li>\n",
       "\t<li>TRUE</li>\n",
       "\t<li>TRUE</li>\n",
       "</ol>\n"
      ],
      "text/latex": [
       "\\begin{enumerate}\n",
       "\\item TRUE\n",
       "\\item TRUE\n",
       "\\item TRUE\n",
       "\\item TRUE\n",
       "\\item TRUE\n",
       "\\end{enumerate}\n"
      ],
      "text/markdown": [
       "1. TRUE\n",
       "2. TRUE\n",
       "3. TRUE\n",
       "4. TRUE\n",
       "5. TRUE\n",
       "\n",
       "\n"
      ],
      "text/plain": [
       "[[1]]\n",
       "[1] TRUE\n",
       "\n",
       "[[2]]\n",
       "[1] TRUE\n",
       "\n",
       "[[3]]\n",
       "[1] TRUE\n",
       "\n",
       "[[4]]\n",
       "[1] TRUE\n",
       "\n",
       "[[5]]\n",
       "[1] TRUE\n"
      ]
     },
     "metadata": {},
     "output_type": "display_data"
    }
   ],
   "source": [
    "## List the packages we need, install if missing, then load all of them\n",
    "# data.table is an enhanced version of data.frame\n",
    "# ggplot makes beautiful plots and is flexible and powerful, especially with overlaying\n",
    "\n",
    "PackageList =c('tree', 'rpart', 'randomForest', 'data.table', 'ggplot2')\n",
    "NewPackages=PackageList[!(PackageList %in%\n",
    "installed.packages()[,\"Package\"])]\n",
    "\n",
    "if(length(NewPackages)) install.packages(NewPackages)\n",
    "\n",
    "lapply(PackageList,require,character.only=TRUE)#array function\n",
    "\n",
    "set.seed(156) #Always set the seed for reproducibility"
   ]
  },
  {
   "cell_type": "code",
   "execution_count": 4,
   "id": "8967c57c",
   "metadata": {
    "vscode": {
     "languageId": "r"
    }
   },
   "outputs": [
    {
     "data": {
      "text/html": [
       "'tree'"
      ],
      "text/latex": [
       "'tree'"
      ],
      "text/markdown": [
       "'tree'"
      ],
      "text/plain": [
       "[1] \"tree\""
      ]
     },
     "metadata": {},
     "output_type": "display_data"
    }
   ],
   "source": [
    "## Write a function to estimate a regression tree\n",
    "# INPUT your code here\n",
    "\n",
    "\n",
    "# Here is an example that I wrote using rpart, which offers more controls than the tree package \n",
    "# we saw earlier in the lecture codes\n",
    "estimate_tree <- function(formula, train_dt){\n",
    "    big.tree <- rpart(formula = formula, data = train_dt, method = \"anova\", control = rpart.control(minsplit = 5,\n",
    "                                                                                    cp = 1e-4,\n",
    "                                                                                    xval = 10))\n",
    "    bestcp <- big.tree$cptable[which.min(big.tree$cptable[, 'xerror']), \"CP\"]\n",
    "    best.tree <- prune(big.tree, cp = bestcp)\n",
    "\n",
    "    return(best.tree)\n",
    "}"
   ]
  },
  {
   "cell_type": "code",
   "execution_count": 11,
   "id": "e043165c",
   "metadata": {
    "vscode": {
     "languageId": "r"
    }
   },
   "outputs": [],
   "source": [
    "## Create an array to store the tree estimate for all simulations\n",
    "# INPUT your code here\n",
    "\n",
    "rmse <- rep(0, Nsim)\n",
    "leaves <- rep(0, Nsim)\n",
    "..."
   ]
  },
  {
   "cell_type": "markdown",
   "id": "17bdcb43",
   "metadata": {},
   "source": [
    "#### 3. Pick any simulated sample. Plot the training data points on a plane and use color to signify the values of $y$.  On the same plot, overlay with the prediction surface of your estimated tree."
   ]
  },
  {
   "cell_type": "code",
   "execution_count": 21,
   "id": "59e18c35",
   "metadata": {
    "vscode": {
     "languageId": "r"
    }
   },
   "outputs": [],
   "source": [
    "# INPUT your code here\n",
    "\n",
    "# scatterplot with ggplot2: color by y values\n",
    "sp <-ggplot(train_dt, aes(x=x1, y=x2, color=y)) + geom_point()\n",
    "\n",
    "# continuous color gradient\n",
    "sp + scale_color_gradient2(midpoint=mid, low=\"blue\", mid=\"white\",\n",
    "                     high=\"red\", space =\"Lab\")"
   ]
  },
  {
   "cell_type": "markdown",
   "id": "0dd6b673",
   "metadata": {},
   "source": [
    "In regression problems, we aim to come up with a model that yields the best predictive performance (on new data). Empirically, an estimate of the expected error is the mean squared error (MSE), defined as the average squared distance between prediction $\\hat{Y}_i$ and true value $Y_i$ for observations in the test set. In Machine learning papers, people typically report the square root of MSE to evaluate and compare the performances of different regression models. This metric is known as RMSE."
   ]
  },
  {
   "cell_type": "markdown",
   "id": "c6092631",
   "metadata": {},
   "source": [
    "#### 4. Report the mean and standard deviation of *the number of leaves* and the root mean squared error (*RMSE*) across all simulations."
   ]
  },
  {
   "cell_type": "code",
   "execution_count": null,
   "id": "75e9cfe5",
   "metadata": {
    "vscode": {
     "languageId": "r"
    }
   },
   "outputs": [],
   "source": [
    "# INPUT your code here\n",
    "\n",
    "# compute RMSE on test data\n",
    "rmse <- sqrt(mean((y - predict(best.tree, test_dt))^2))\n",
    "\n",
    "# compute the number of leaves of a given tree\n",
    "leaves_w[s] <- length(unique(best.tree$where))"
   ]
  },
  {
   "cell_type": "markdown",
   "id": "78a7b478",
   "metadata": {},
   "source": [
    "#### 5. Repeat the previous steps, but now using a regression tree of $Y_i$ on $W_i = X_{i1} + X_{i2}$. Compare the number of leaves and RMSE obtained in this model with those in the previous model. Comment on the results."
   ]
  },
  {
   "cell_type": "code",
   "execution_count": 15,
   "id": "0abfda18",
   "metadata": {
    "vscode": {
     "languageId": "r"
    }
   },
   "outputs": [],
   "source": [
    "# INPUT your code here\n",
    "\n",
    "# add one column W to your data (both train and test)\n",
    "\n",
    "# use the previously defined function to estimate trees\n",
    "\n",
    "# output a table with two columms: number of leaves, RMSE and two rows: tree with X, tree with W"
   ]
  },
  {
   "cell_type": "code",
   "execution_count": 19,
   "id": "7d55bd9b",
   "metadata": {
    "vscode": {
     "languageId": "r"
    }
   },
   "outputs": [],
   "source": [
    "# INPUT your comment here\n",
    "\n",
    "\n"
   ]
  },
  {
   "cell_type": "markdown",
   "id": "b71e2db0",
   "metadata": {},
   "source": [
    "#### 6. Repeat the previous steps, now using a 1-hidden layer neural network with $K=2$ hidden units. Compare the results for trees and neural networks when trained on $X$ vs $W$. Discuss the similarities and differences between these two methods. \n",
    "\n",
    "You will use a R package to train a neural network. "
   ]
  },
  {
   "cell_type": "code",
   "execution_count": null,
   "id": "d820c050",
   "metadata": {
    "vscode": {
     "languageId": "r"
    }
   },
   "outputs": [],
   "source": [
    "# INPUT your code here\n",
    "\n",
    "\n",
    "\n",
    "# Here is an example that I wrote to train a simple neural network.\n",
    "# I use neuralnet, which is more sophisticated than the package nnet\n",
    "# that we saw earlier in the lecture codes\n",
    "nn_x <- neuralnet(y ~ x1 + x2, data = train_dt, hidden = 2, act.fct = \"logistic\", \n",
    "                  linear.output = TRUE, stepmax = 1e6) # regression, set linear.output to TRUE\n",
    "\n",
    "# \"logistic\" is just our sigmoid function, you can verify by defining the sigmoid function explicitly\n",
    "sigmoid = function(x) {\n",
    "  1/(1 + exp(-x))\n",
    "}\n",
    "\n",
    "# output a table with two columms: number of leaves, RMSE and four rows: tree with X, tree with W, \n",
    "# nnet with X, nnet with W\n",
    "\n"
   ]
  },
  {
   "cell_type": "code",
   "execution_count": 20,
   "id": "7c8ecd17",
   "metadata": {
    "vscode": {
     "languageId": "r"
    }
   },
   "outputs": [],
   "source": [
    "# INPUT your comment here\n",
    "\n",
    "\n"
   ]
  },
  {
   "cell_type": "markdown",
   "id": "ce108aa0",
   "metadata": {},
   "source": [
    "## Q2. Logistic regression\n",
    "\n",
    "In class, we mentioned that neural network without the hidden layer will degenerate to a logistic regression model. In this exercise, we explore this frequently used nonlinear model in predicting a binary response $Y_i \\in \\{0, 1\\}$. \n",
    "\n",
    "The model has the form:\n",
    "$$Pr(Y = 1|X=x;\\beta) = \\frac{\\exp (x'\\beta)}{1 + \\exp(x'\\beta)}$$"
   ]
  },
  {
   "cell_type": "markdown",
   "id": "94a7e495",
   "metadata": {},
   "source": [
    "#### 1. Write down the log-likelihood function $l(b)$ for observing $\\{x_i, y_i\\}, i = 1, \\cdots, n$ in the training sample"
   ]
  },
  {
   "cell_type": "code",
   "execution_count": 24,
   "id": "8c5c473c",
   "metadata": {
    "vscode": {
     "languageId": "r"
    }
   },
   "outputs": [],
   "source": [
    "# INPUT your answer here\n",
    "\n"
   ]
  },
  {
   "cell_type": "markdown",
   "id": "eb22067a",
   "metadata": {},
   "source": [
    "#### 2. We estimate the model by maximum likelihood. Is the log-likelihood function convex? Justify your answer."
   ]
  },
  {
   "cell_type": "code",
   "execution_count": 25,
   "id": "4ae81cb0",
   "metadata": {
    "vscode": {
     "languageId": "r"
    }
   },
   "outputs": [],
   "source": [
    "# INPUT your answer here\n",
    "\n"
   ]
  },
  {
   "cell_type": "markdown",
   "id": "c7df3970",
   "metadata": {},
   "source": [
    "#### 3. We use gradient descent to solve the optimization problem. Derive the gradient $\\nabla l(b)$. Program a procedure for estimating a logistic regression model using gradient descent."
   ]
  },
  {
   "cell_type": "code",
   "execution_count": 22,
   "id": "431db6f4",
   "metadata": {
    "vscode": {
     "languageId": "r"
    }
   },
   "outputs": [],
   "source": [
    "# INPUT your answer here\n",
    "\n"
   ]
  },
  {
   "cell_type": "code",
   "execution_count": 23,
   "id": "78f17069",
   "metadata": {
    "vscode": {
     "languageId": "r"
    }
   },
   "outputs": [],
   "source": [
    "# INPUT your answer here by filling in the missing code below\n",
    "\n",
    "# objective function\n",
    "obj_function = function(X, y, b){\n",
    "    \n",
    "}\n",
    "# gradient function\n",
    "grad_function = function(X, y, b){\n",
    "    \n",
    "}\n",
    "# function to do gradient descent\n",
    "grad_descent <- function(l, grad_l, X, y, alpha, max_iter, tol){\n",
    "    \n",
    "}\n",
    "\n",
    "# Run gradient descent to estimate the model parameters\n",
    "logistic_gr <- grad_descent(l = obj_function, grad_l = grad_function, X, y, alpha, max_iter, tol)"
   ]
  },
  {
   "cell_type": "markdown",
   "id": "7d31e4dd",
   "metadata": {},
   "source": [
    "Credit scoring is a classic problem in classification. When a bank receives a loan application, based on the applicant’s profile the bank has to make a decision regarding whether to go ahead with the loan approval or not. Such decisions ideally should rely on an assessment of default risk.\n",
    "\n",
    "We turn to the widely used German credit data to investigate binary classification using logistic regression model and others. Data and code are on Blackboard in `credit.zip`. \n",
    "\n",
    "The dataset consists of 1000 records of approved loan applications. The dependent variable for your purpose is `default`, which codes whether the credit contract has been complied with (0) or not (1). Other variables in the dataset are borrower and loan characteristics, including a person's prior credit history."
   ]
  },
  {
   "cell_type": "markdown",
   "id": "376e19e1",
   "metadata": {},
   "source": [
    "Data is downloaded from [UCI Machine Learning Repository](https://archive.ics.uci.edu/ml/datasets/Statlog+%28German+Credit+Data%29). Some data cleaning needs to be done before we can comfortably work with it..."
   ]
  },
  {
   "cell_type": "markdown",
   "id": "531f8481",
   "metadata": {},
   "source": [
    "Dealing with missing values"
   ]
  },
  {
   "cell_type": "code",
   "execution_count": 1,
   "id": "f6a2d4e8",
   "metadata": {
    "vscode": {
     "languageId": "r"
    }
   },
   "outputs": [],
   "source": [
    "## naref: make missing (NA) the reference level of a factor\n",
    "\n",
    "xnaref <- function(x){\n",
    "\tif(is.factor(x))\n",
    "\t\tif(!is.na(levels(x)[1]))\n",
    "\t\t\tx <- factor(x,levels=c(NA,levels(x)),exclude=NULL)\n",
    "\treturn(x) }\n",
    "\n",
    "naref <- function(DF){\n",
    "\tif(is.null(dim(DF))) return(xnaref(DF))\n",
    "\tif(!is.data.frame(DF)) \n",
    "\t\tstop(\"You need to give me a data.frame or a factor\")\n",
    "\tDF <- lapply(DF, xnaref)\n",
    "\treturn(as.data.frame(DF))\n",
    "}"
   ]
  },
  {
   "cell_type": "markdown",
   "id": "2af7eb3b",
   "metadata": {},
   "source": [
    "Read data and create some interesting variables. Helpful to look at the codebook and figure out the meaning of original labels"
   ]
  },
  {
   "cell_type": "code",
   "execution_count": 7,
   "id": "45ae3771",
   "metadata": {
    "vscode": {
     "languageId": "r"
    }
   },
   "outputs": [],
   "source": [
    "credit <- read.csv(\"./credit/credit.csv\")\n",
    "\n",
    "## re-level the credit history and checking account status\n",
    "credit$history = factor(credit$history, levels=c(\"A30\",\"A31\",\"A32\",\"A33\",\"A34\"))\n",
    "\n",
    "levels(credit$history) = c(\"good\",\"good\",\"poor\",\"poor\",\"terrible\")\n",
    "\n",
    "## a few others\n",
    "credit$foreign <- factor(credit$foreign, levels=c(\"A201\",\"A202\"), labels=c(\"foreign\",\"german\"))\n",
    "credit$rent <- factor(credit$housing==\"A151\")\n",
    "credit$purpose <- factor(credit$purpose, levels=c(\"A40\",\"A41\",\"A42\",\"A43\",\"A44\",\"A45\",\"A46\",\"A47\",\"A48\",\"A49\",\"A410\"))\n",
    "levels(credit$purpose) <- c(\"newcar\",\"usedcar\",rep(\"goods/repair\",4),\"edu\",NA,\"edu\",\"biz\",\"biz\")"
   ]
  },
  {
   "cell_type": "code",
   "execution_count": 8,
   "id": "5de182e2",
   "metadata": {
    "vscode": {
     "languageId": "r"
    }
   },
   "outputs": [
    {
     "data": {
      "text/html": [
       "<ol class=list-inline>\n",
       "\t<li>1000</li>\n",
       "\t<li>22</li>\n",
       "</ol>\n"
      ],
      "text/latex": [
       "\\begin{enumerate*}\n",
       "\\item 1000\n",
       "\\item 22\n",
       "\\end{enumerate*}\n"
      ],
      "text/markdown": [
       "1. 1000\n",
       "2. 22\n",
       "\n",
       "\n"
      ],
      "text/plain": [
       "[1] 1000   22"
      ]
     },
     "metadata": {},
     "output_type": "display_data"
    }
   ],
   "source": [
    "dim(credit)"
   ]
  },
  {
   "cell_type": "code",
   "execution_count": 10,
   "id": "3861d511",
   "metadata": {
    "vscode": {
     "languageId": "r"
    }
   },
   "outputs": [
    {
     "data": {
      "image/png": "[encoded data removed]",
      "text/plain": [
       "Plot with title \"\""
      ]
     },
     "metadata": {},
     "output_type": "display_data"
    }
   ],
   "source": [
    "## plot a couple of dimensions\n",
    "par(mfrow=c(1,2))\n",
    "\n",
    "plot(factor(Default) ~ history, data=credit, col=c(8,2), ylab=\"Default\") ## surprise!\n",
    "plot(factor(Default) ~ purpose, data=credit, col=c(8,2), ylab=\"\") "
   ]
  },
  {
   "cell_type": "markdown",
   "id": "8c3ec116",
   "metadata": {},
   "source": [
    "This looks counterintuitive -- borrowers with great prior credit history default more frequently! What could be the story here? Or is it due to mistakes in recording the data?"
   ]
  },
  {
   "cell_type": "markdown",
   "id": "549338b2",
   "metadata": {},
   "source": [
    "#### 4. Choose a reasonable step-size $\\alpha$. Plot the value of the objective function on each iteration of gradient descent, with the iteration number on the horizontal axis and the objective value\ton the vertical axis. \n",
    "\n",
    "Make sure to include axis labels and a title for your plot. Draw the plot described above for three cases: too small $\\alpha$, reasonable $\\alpha$, and too big $\\alpha$.  You should be able to see the objective function decreases quickly and then becomes stable if the scale of $\\alpha$ is reasonable."
   ]
  },
  {
   "cell_type": "code",
   "execution_count": 11,
   "id": "efaa12cc",
   "metadata": {
    "vscode": {
     "languageId": "r"
    }
   },
   "outputs": [],
   "source": [
    "# INPUT your code here\n",
    "\n",
    "\n"
   ]
  },
  {
   "cell_type": "markdown",
   "id": "0ab108aa",
   "metadata": {},
   "source": [
    "#### 5. Use the  reasonable $\\alpha$ you get and run the gradient descent on the German credit data. Report the number of iterations that are required for the algorithm to converge. Report the estimated regression coefficients. Also, implement logistic regression using R package `glm`. Does your programmed procedure agree with the canned routine?"
   ]
  },
  {
   "cell_type": "code",
   "execution_count": 13,
   "id": "8c6cd2df",
   "metadata": {
    "vscode": {
     "languageId": "r"
    }
   },
   "outputs": [],
   "source": [
    "# First some data cleaning and prep\n",
    "credit <- naref(credit)"
   ]
  },
  {
   "cell_type": "code",
   "execution_count": 14,
   "id": "b576e3d5",
   "metadata": {
    "vscode": {
     "languageId": "r"
    }
   },
   "outputs": [],
   "source": [
    "# INPUT your code here\n",
    "## logistic regression with your program\n",
    "\n",
    "\n"
   ]
  },
  {
   "cell_type": "code",
   "execution_count": 22,
   "id": "a37803bc",
   "metadata": {
    "vscode": {
     "languageId": "r"
    }
   },
   "outputs": [],
   "source": [
    "# INPUT your code here\n",
    "## logistic regression with glm\n",
    "\n",
    "\n",
    "\n",
    "\n",
    "# Here is one regression specification that I wrote\n",
    "# Sparse design matrix for efficient computation\n",
    "library(gamlr)\n",
    "credx <- sparse.model.matrix( ~ duration + amount +\n",
    "    installment + age + history +\n",
    "    purpose + foreign + rent, data=credit)\n",
    "\n",
    "default <- credit$Default\n",
    "credscore <- glm.fit(credx, default, family = binomial())"
   ]
  },
  {
   "cell_type": "markdown",
   "id": "b1888933",
   "metadata": {},
   "source": [
    "#### 6. There are lots of regressors in the data set, making it hard to interpret the fitted model. We use LASSO penalty to do variable selection. Write down the objective function for the log-likelihood with a $L_1$ penalty, $\\lambda$ being the penalty parameter as usual. "
   ]
  },
  {
   "cell_type": "code",
   "execution_count": 24,
   "id": "b535f367",
   "metadata": {
    "vscode": {
     "languageId": "r"
    }
   },
   "outputs": [],
   "source": [
    "# INPUT your answer here\n",
    "\n",
    "\n"
   ]
  },
  {
   "cell_type": "markdown",
   "id": "dce6d115",
   "metadata": {},
   "source": [
    "#### 7. Use `glmnet` or `gamlr` to estimate the LASSO logistic regression. Report the selected $\\lambda$ using cross validation. How many variables are selected by LASSO under CV, AICc, BIC, and AIC criteria?"
   ]
  },
  {
   "cell_type": "code",
   "execution_count": 28,
   "id": "fa9f5203",
   "metadata": {
    "vscode": {
     "languageId": "r"
    }
   },
   "outputs": [
    {
     "data": {
      "text/html": [
       "14"
      ],
      "text/latex": [
       "14"
      ],
      "text/markdown": [
       "14"
      ],
      "text/plain": [
       "[1] 14"
      ]
     },
     "metadata": {},
     "output_type": "display_data"
    }
   ],
   "source": [
    "# INPUT your code here\n",
    "\n",
    "\n",
    "# LASSO logistic regression\n",
    "credscore <- cv.gamlr(credx, default, family=\"binomial\")\n",
    "sum(coef(credscore)!=0) # number of variables selected"
   ]
  },
  {
   "cell_type": "markdown",
   "id": "ff44f072",
   "metadata": {},
   "source": [
    "#### 8. In your optimal model chosen by cross validation, which variables in $X_i$ are relevant predictors of credit default? Are they all stastistically significant? Choose one significant predictor and interpret the coefficient."
   ]
  },
  {
   "cell_type": "code",
   "execution_count": 18,
   "id": "ae8455fd",
   "metadata": {
    "vscode": {
     "languageId": "r"
    }
   },
   "outputs": [],
   "source": [
    "# INPUT your answer here\n",
    "\n",
    "\n"
   ]
  },
  {
   "cell_type": "markdown",
   "id": "f7cf6938",
   "metadata": {},
   "source": [
    "In classification problems, the metrics to evaluate predictive accuracy are various: **confusion matrix, accuracy/error/misclassification rate, specificity and sensitivity, and ROC/AUC**. \n",
    "\n",
    "A confusion matrix summarizes all four different scenarios of an actual-predicted pair:\n",
    "\n",
    "|          | Predicted 1     | Predicted 0   |\n",
    "|---------:|:----------------|:--------------|\n",
    "| **Actual 1** | True Positive   | False Negative| \n",
    "| **Actual 0** | False Positive  | True Negative | \n",
    "\n",
    "There are two ways to be wrong in a binary problem.\n",
    "- false positive (FP): predict $\\hat{Y_i} = 1$ when $Y_i=0$\n",
    "- false negative (FN): predict $\\hat{Y_i} = 0$ when $Y_i=1$\n",
    "\n",
    "Logistic regression gives us an estimate of $Pr(Y=1|X=x, \\beta)$. Under Bayes decision rule, classify as 1 (defauter) if the predicted probability $\\hat{p} > 0.5$. However, sometimes making the optimal decision (e.g., granting a loan or not) requires taking into account the cost and benefit of an action. Under certain cost configuration, a profit maximizing bank should lend whenever the probability of default is less than 0.2 (so that the expected profit from lending exceeds that of not lending).\n",
    "\n",
    "For any given cutoff $p$, we can define the following two metrics:\n",
    "- sensitivity: proportion of true $Y=1$ classified as such\n",
    "- specificity: proportion of true $Y=0$ classified as such\n",
    "\n",
    "One index that captures predictive accuracy is *accuracy rate*, which is the sum of TP and TN divided by sample size. Error rate or misclassification rate is $1 - accuracy$. Another commonly used evaluation tool is the ROC curve. It avoids the drawbacks of accuracy rate when classes are highly imbalanced. See the figure below for an example ROC curve. It traces the change in sensitivity and specificity as the cutoff value $p$ goes from 0 to 1. One predictive model is better than the other if the ROC curve lies above it everywhere. Intuitively, for two models that achieve the same level of specificity, the one that yields a higher sensitivity is better."
   ]
  },
  {
   "cell_type": "code",
   "execution_count": 34,
   "id": "273812a3",
   "metadata": {
    "vscode": {
     "languageId": "r"
    }
   },
   "outputs": [
    {
     "data": {
      "text/html": [
       "<table>\n",
       "<thead><tr><th scope=col>default</th><th scope=col>pred</th></tr></thead>\n",
       "<tbody>\n",
       "\t<tr><td>0        </td><td>0.1262547</td></tr>\n",
       "\t<tr><td>1        </td><td>0.4622522</td></tr>\n",
       "\t<tr><td>0        </td><td>0.1550758</td></tr>\n",
       "\t<tr><td>0        </td><td>0.4094682</td></tr>\n",
       "\t<tr><td>1        </td><td>0.3792323</td></tr>\n",
       "\t<tr><td>0        </td><td>0.4171023</td></tr>\n",
       "\t<tr><td>0        </td><td>0.2849803</td></tr>\n",
       "\t<tr><td>0        </td><td>0.3340328</td></tr>\n",
       "\t<tr><td>0        </td><td>0.2095200</td></tr>\n",
       "\t<tr><td>1        </td><td>0.3404866</td></tr>\n",
       "</tbody>\n",
       "</table>\n"
      ],
      "text/latex": [
       "\\begin{tabular}{r|ll}\n",
       " default & pred\\\\\n",
       "\\hline\n",
       "\t 0         & 0.1262547\\\\\n",
       "\t 1         & 0.4622522\\\\\n",
       "\t 0         & 0.1550758\\\\\n",
       "\t 0         & 0.4094682\\\\\n",
       "\t 1         & 0.3792323\\\\\n",
       "\t 0         & 0.4171023\\\\\n",
       "\t 0         & 0.2849803\\\\\n",
       "\t 0         & 0.3340328\\\\\n",
       "\t 0         & 0.2095200\\\\\n",
       "\t 1         & 0.3404866\\\\\n",
       "\\end{tabular}\n"
      ],
      "text/markdown": [
       "\n",
       "| default | pred |\n",
       "|---|---|\n",
       "| 0         | 0.1262547 |\n",
       "| 1         | 0.4622522 |\n",
       "| 0         | 0.1550758 |\n",
       "| 0         | 0.4094682 |\n",
       "| 1         | 0.3792323 |\n",
       "| 0         | 0.4171023 |\n",
       "| 0         | 0.2849803 |\n",
       "| 0         | 0.3340328 |\n",
       "| 0         | 0.2095200 |\n",
       "| 1         | 0.3404866 |\n",
       "\n"
      ],
      "text/plain": [
       "   default pred     \n",
       "1  0       0.1262547\n",
       "2  1       0.4622522\n",
       "3  0       0.1550758\n",
       "4  0       0.4094682\n",
       "5  1       0.3792323\n",
       "6  0       0.4171023\n",
       "7  0       0.2849803\n",
       "8  0       0.3340328\n",
       "9  0       0.2095200\n",
       "10 1       0.3404866"
      ]
     },
     "metadata": {},
     "output_type": "display_data"
    }
   ],
   "source": [
    "## prediction from our fitted logistic regression model\n",
    "pred <- predict(credscore, credx, type=\"response\")\n",
    "\n",
    "pred <- drop(pred) # remove the sparse Matrix formatting\n",
    "\n",
    "data.frame(default,pred)[1:10,]"
   ]
  },
  {
   "cell_type": "code",
   "execution_count": null,
   "id": "db43ef50",
   "metadata": {
    "vscode": {
     "languageId": "r"
    }
   },
   "outputs": [],
   "source": [
    "## misclassification rates\n",
    "rule <- 1/5 # move this around to see how these change\n",
    "\n",
    "sum( (pred>rule)[default==0] )/sum(pred>rule) ## false positive rate\n",
    "sum( (pred<rule)[default==1] )/sum(pred<rule) ## false negative rate"
   ]
  },
  {
   "cell_type": "code",
   "execution_count": 32,
   "id": "9db7a015",
   "metadata": {
    "vscode": {
     "languageId": "r"
    }
   },
   "outputs": [],
   "source": [
    "## ROC curve\n",
    "## function to plot the ROC curve for classification of y with p\n",
    "roc <- function(p,y, ...){\n",
    "  y <- factor(y)\n",
    "  n <- length(p)\n",
    "  p <- as.vector(p)\n",
    "  Q <- p > matrix(rep(seq(0,1,length=100),n),ncol=100,byrow=TRUE)\n",
    "  specificity <- colMeans(!Q[y==levels(y)[1],])\n",
    "  sensitivity <- colMeans(Q[y==levels(y)[2],])\n",
    "  plot(1-specificity, sensitivity, type=\"l\", ...)\n",
    "  abline(a=0,b=1,lty=2,col=8) # what we will get by classifying randomly\n",
    "}"
   ]
  },
  {
   "cell_type": "code",
   "execution_count": 31,
   "id": "348d42af",
   "metadata": {
    "vscode": {
     "languageId": "r"
    }
   },
   "outputs": [
    {
     "data": {
      "image/png": "[encoded data removed]",
      "text/plain": [
       "plot without title"
      ]
     },
     "metadata": {},
     "output_type": "display_data"
    }
   ],
   "source": [
    "roc(p=pred, y=default, bty=\"n\")\n",
    "\n",
    "## our 1/5 rule cutoff \n",
    "rule <- 1/5 # move this around to see how things change\n",
    "sensitivity<- sum( (pred>rule)[default==1] )/sum(default==1) ## sensitivity\n",
    "specificity<-sum( (pred<rule)[default==0] )/sum(default==0) ## specificity\n",
    "\n",
    "points(x= 1-specificity, \n",
    "\ty=sensitivity, \n",
    "\tcex=1.5, pch=20, col='red') \n",
    "## a standard `max prob' (p=.5) rule"
   ]
  },
  {
   "cell_type": "markdown",
   "id": "2fdeec32",
   "metadata": {},
   "source": [
    "#### 9. Now, experiment with a few other algorithms -- random forest and neural network -- to predict credit default. Examine the confusion matrix and accuracy rates. Report the test error (i.e., misclassification rate) for all models, including logistic regression and regularized logistic regression, in a summary table. Plot the ROC curve for all models on one single graph. Which algorithm wins in predicting default?\n",
    "\n",
    "You need to split your sample into train (80%) and test (20%) for this exercise."
   ]
  },
  {
   "cell_type": "code",
   "execution_count": null,
   "id": "6e2068b1",
   "metadata": {
    "vscode": {
     "languageId": "r"
    }
   },
   "outputs": [],
   "source": [
    "# INPUT your code here\n",
    "\n",
    "# build model and make prediction\n",
    "\n"
   ]
  },
  {
   "cell_type": "code",
   "execution_count": null,
   "id": "9ad0fc78",
   "metadata": {
    "vscode": {
     "languageId": "r"
    }
   },
   "outputs": [],
   "source": [
    "# INPUT your code here\n",
    "\n",
    "# create summary table\n",
    "\n"
   ]
  },
  {
   "cell_type": "code",
   "execution_count": null,
   "id": "09660b64",
   "metadata": {
    "vscode": {
     "languageId": "r"
    }
   },
   "outputs": [],
   "source": [
    "# INPUT your code here\n",
    "\n",
    "# create ROC figure\n",
    "\n"
   ]
  },
  {
   "cell_type": "code",
   "execution_count": 35,
   "id": "c1399d9d",
   "metadata": {
    "vscode": {
     "languageId": "r"
    }
   },
   "outputs": [],
   "source": [
    "# INPUT your answer here\n",
    "\n"
   ]
  },
  {
   "cell_type": "markdown",
   "id": "bdc584e1",
   "metadata": {},
   "source": [
    "### Congrats, you are done!"
   ]
  },
  {
   "cell_type": "markdown",
   "id": "c10a871c",
   "metadata": {},
   "source": [
    "Before you quit the document, here is one thing to ponder. Do loan officers actually make their decision based on these prediction algorithms? If not, how do they fare compared to the algorithms we trained using retrospective data?\n",
    "\n",
    "These turn out to be a difficult and deep questions (let alone the ethical and philosophical issues), but also extremely worthwhile to think about in the age of automation. A few economists teamed up with computer scientists and provided us with some interesting food for thought: [Human Decisions and Machine Predictions in the context of criminal justice](https://doi.org/10.1093/qje/qjx032)\n",
    "\n",
    "Reference: Jon Kleinberg, Himabindu Lakkaraju, Jure Leskovec, Jens Ludwig, Sendhil Mullainathan, *Human Decisions and Machine Predictions*, The Quarterly Journal of Economics, Volume 133, Issue 1, February 2018, Pages 237–293"
   ]
  }
 ],
 "metadata": {
  "celltoolbar": "Raw Cell Format",
  "kernelspec": {
   "display_name": "R",
   "language": "R",
   "name": "ir"
  },
  "language_info": {
   "codemirror_mode": "r",
   "file_extension": ".r",
   "mimetype": "text/x-r-source",
   "name": "R",
   "pygments_lexer": "r",
   "version": "3.6.1"
  }
 },
 "nbformat": 4,
 "nbformat_minor": 5
}
